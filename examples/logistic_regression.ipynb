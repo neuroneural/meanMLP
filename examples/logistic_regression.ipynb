{
 "cells": [
  {
   "cell_type": "markdown",
   "metadata": {},
   "source": [
    "# Requirements"
   ]
  },
  {
   "cell_type": "code",
   "execution_count": 2,
   "metadata": {},
   "outputs": [],
   "source": [
    "import sys\n",
    "sys.path.append(\"../\") # go to parent dir\n",
    "\n",
    "import numpy as np\n",
    "import pandas as pd\n",
    "import seaborn as sns\n",
    "import matplotlib.pyplot as plt\n",
    "from scipy.special import expit\n",
    "\n",
    "from src.settings import LOGS_ROOT\n",
    "\n",
    "sns.set(rc = {'figure.figsize':(8,8)})\n",
    "sns.set_style(\"whitegrid\")"
   ]
  },
  {
   "cell_type": "markdown",
   "metadata": {},
   "source": [
    "# A smarter approach for results"
   ]
  },
  {
   "cell_type": "markdown",
   "metadata": {},
   "source": [
    "## Data load"
   ]
  },
  {
   "cell_type": "code",
   "execution_count": 4,
   "metadata": {},
   "outputs": [],
   "source": [
    "# ABIDE 869\n",
    "ds = \"ABIDE 869\"\n",
    "data_paths = [\n",
    "    LOGS_ROOT.joinpath(\"220716.075108-experiment-mlp-abide_869/k_0/0002/scores.npz\"),\n",
    "    LOGS_ROOT.joinpath(\"220716.075108-experiment-mlp-abide_869/k_1/0009/scores.npz\"),\n",
    "    LOGS_ROOT.joinpath(\"220716.075108-experiment-mlp-abide_869/k_2/0008/scores.npz\"),\n",
    "    LOGS_ROOT.joinpath(\"220716.075108-experiment-mlp-abide_869/k_3/0004/scores.npz\"),\n",
    "    LOGS_ROOT.joinpath(\"220716.075108-experiment-mlp-abide_869/k_4/0000/scores.npz\")\n",
    "]\n",
    "accuracies = [0.655, 0.684, 0.713, 0.747, 0.746]\n",
    "AUCs = [0.6912234042553193, 0.7150265957446809, 0.7523936170212767, 0.8257161892071951, 0.7970643684352275]\n"
   ]
  },
  {
   "cell_type": "code",
   "execution_count": 3,
   "metadata": {},
   "outputs": [],
   "source": [
    "# OASIS\n",
    "ds = \"OASIS\"\n",
    "data_paths = [\n",
    "    LOGS_ROOT.joinpath(\"220721.184622-experiment-mlp-oasis/k_0/0001/scores.npz\"),\n",
    "    LOGS_ROOT.joinpath(\"220721.184622-experiment-mlp-oasis/k_1/0002/scores.npz\"),\n",
    "    LOGS_ROOT.joinpath(\"220721.184622-experiment-mlp-oasis/k_2/0008/scores.npz\"),\n",
    "    LOGS_ROOT.joinpath(\"220721.184622-experiment-mlp-oasis/k_3/0002/scores.npz\"),\n",
    "    LOGS_ROOT.joinpath(\"220721.184622-experiment-mlp-oasis/k_4/0005/scores.npz\")\n",
    "]\n",
    "accuracies = [0.8181818181818182, 0.8, 0.8121212121212121, 0.8414634146341463, 0.8597560975609756]\n",
    "AUCs = [0.855410866636731, 0.7151648351648352, 0.7371428571428571, 0.8031674208144797, 0.8404977375565611]\n"
   ]
  },
  {
   "cell_type": "code",
   "execution_count": 15,
   "metadata": {},
   "outputs": [],
   "source": [
    "# FBIRN\n",
    "ds = \"FBIRN\"\n",
    "data_paths = [\n",
    "    LOGS_ROOT.joinpath(\"220721.175931-experiment-mlp-fbirn/k_0/0008/scores.npz\"),\n",
    "    LOGS_ROOT.joinpath(\"220721.175931-experiment-mlp-fbirn/k_1/0008/scores.npz\"),\n",
    "    LOGS_ROOT.joinpath(\"220721.175931-experiment-mlp-fbirn/k_2/0004/scores.npz\"),\n",
    "    LOGS_ROOT.joinpath(\"220721.175931-experiment-mlp-fbirn/k_3/0003/scores.npz\"),\n",
    "    LOGS_ROOT.joinpath(\"220721.175931-experiment-mlp-fbirn/k_4/0005/scores.npz\")\n",
    "]\n",
    "accuracies = [0.8095238095238095, 0.7903225806451613, 0.7741935483870968, 0.8709677419354839, 0.7580645161290323]\n",
    "AUCs = [0.8477822580645161, 0.8104166666666667, 0.875, 0.8989583333333333, 0.8645833333333333]"
   ]
  },
  {
   "cell_type": "code",
   "execution_count": 4,
   "metadata": {},
   "outputs": [],
   "source": [
    "data_list = []\n",
    "for data_path in data_paths:\n",
    "    data_list.append(np.load(data_path))\n",
    "\n",
    "logits_list = []\n",
    "targets_list = []\n",
    "for data in data_list:\n",
    "    logits_list.append(data[\"logits\"])\n",
    "    targets_list.append(data[\"targets\"])\n",
    "\n",
    "data_list = []\n",
    "\n",
    "for logits, targets in zip(logits_list, targets_list):\n",
    "    data_list.append(\n",
    "        pd.DataFrame(\n",
    "            {\n",
    "                \"y0\": logits_list[ :, 0],\n",
    "                \"y1\": logits_list[ :, 1],\n",
    "                \"class\": targets,\n",
    "            }\n",
    "        )\n",
    "    )"
   ]
  },
  {
   "cell_type": "markdown",
   "metadata": {},
   "source": [
    "## Logistic regression"
   ]
  },
  {
   "cell_type": "code",
   "execution_count": 7,
   "metadata": {},
   "outputs": [],
   "source": [
    "from sklearn.linear_model import LogisticRegression\n",
    "\n",
    "X_list = []\n",
    "y_list = []\n",
    "\n",
    "for data in data_list:\n",
    "    X_list.append(data.to_numpy()[ :, 0:2])\n",
    "    y_list.append(data.to_numpy()[ :, 2].astype(int))\n",
    "\n",
    "coef_list = []\n",
    "intercept_list = []\n",
    "scores = []\n",
    "for X, y in zip(X_list, y_list):\n",
    "    clf = LogisticRegression(random_state=0).fit(X, y)\n",
    "    coef_list.append(clf.coef_)\n",
    "    intercept_list.append(clf.intercept_)\n",
    "    scores.append(clf.predict_proba(X))"
   ]
  },
  {
   "cell_type": "code",
   "execution_count": null,
   "metadata": {},
   "outputs": [],
   "source": [
    "for i in range(len(data_list)):\n",
    "    # Fold i, Accuracy = accuracies[i]\n",
    "    X_plot = np.linspace(2, 5, 100)\n",
    "    Y_plot = -coef_list[i][0, 0]/coef_list[i][0, 1]*X_plot - intercept_list[i][0]/coef_list[i][0, 1]\n",
    "\n",
    "    sns.scatterplot(data=data_list[i], x=\"y0\", y=\"y1\", hue=\"class\", alpha=0.7)\n",
    "\n",
    "    plt.plot(X_plot, Y_plot, color='r')\n",
    "    plt.title(f\"{ds}, Fold {i+1}, Accuracy = {accuracies[i]:.3f}, AUC = {AUCs[i]:.3f}\")\n",
    "    plt.savefig(f\"{ds}-{i}.png\", dpi=150)\n",
    "\n",
    "    plt.clf()"
   ]
  },
  {
   "cell_type": "markdown",
   "metadata": {},
   "source": [
    "## Tune threshold"
   ]
  },
  {
   "cell_type": "code",
   "execution_count": 12,
   "metadata": {},
   "outputs": [],
   "source": [
    "import torch\n",
    "from sklearn.metrics import accuracy_score\n",
    "from numpy import arange\n",
    "\n",
    "tuned_accuracies = []\n",
    "tuned_thresholds = []\n",
    "thresholds = arange(0, 1, 0.001)\n",
    "\n",
    "for i in range(len(data_list)):\n",
    "    temp_accuracies = []\n",
    "    for threshold in thresholds:\n",
    "        y_pred = np.array(scores[i][:, 1] > threshold).astype(np.int32)\n",
    "        accuracy = accuracy_score(y_true=y_list[i], y_pred=y_pred)\n",
    "        temp_accuracies.append(accuracy)\n",
    "    max = np.argmax(temp_accuracies).astype(np.int32)\n",
    "    tuned_accuracies.append(temp_accuracies[max])\n",
    "    tuned_thresholds.append(thresholds[max])\n"
   ]
  },
  {
   "cell_type": "code",
   "execution_count": null,
   "metadata": {},
   "outputs": [],
   "source": [
    "for i in range(len(data_list)):\n",
    "    # Fold i, Accuracy = accuracies[i]\n",
    "    X_plot = np.linspace(2, 5, 100)\n",
    "    Y_plot_tuned = -coef_list[i][0, 0]/coef_list[i][0, 1]*X_plot - intercept_list[i][0]/coef_list[i][0, 1] - np.log((1-tuned_thresholds[i])/tuned_thresholds[i])/coef_list[i][0, 1]\n",
    "\n",
    "    Y_plot = -coef_list[i][0, 0]/coef_list[i][0, 1]*X_plot - intercept_list[i][0]/coef_list[i][0, 1]\n",
    "\n",
    "    plt.plot(X_plot, Y_plot, color='r', label=\"original LR hyperplane\")\n",
    "    plt.plot(X_plot, Y_plot_tuned, color='b', label=\"tuned threshold LR hyperplane\")\n",
    "    plt.title(f\"{ds}, Fold {i+1}, accuracy = {accuracies[i]:.3f}, tuned accuracy = {tuned_accuracies[i]:.3f}, AUC = {AUCs[i]:.3f}, tuned threshold = {tuned_thresholds[i]:.3f}\")\n",
    "    sns.scatterplot(data=data_list[i], x=\"y0\", y=\"y1\", hue=\"class\", alpha=0.7)\n",
    "    plt.savefig(f\"{ds}-{i}-tuned.png\", dpi=150)\n",
    "\n",
    "    plt.clf()"
   ]
  }
 ],
 "metadata": {
  "interpreter": {
   "hash": "1b99d877adb0b7ab3fa56a43902a76f28d27732ee5cf08679707ced7dcdfd859"
  },
  "kernelspec": {
   "display_name": "Python 3.7.12 64-bit ('3.7.12')",
   "language": "python",
   "name": "python3"
  },
  "language_info": {
   "codemirror_mode": {
    "name": "ipython",
    "version": 3
   },
   "file_extension": ".py",
   "mimetype": "text/x-python",
   "name": "python",
   "nbconvert_exporter": "python",
   "pygments_lexer": "ipython3",
   "version": "3.7.12"
  },
  "orig_nbformat": 4
 },
 "nbformat": 4,
 "nbformat_minor": 2
}
