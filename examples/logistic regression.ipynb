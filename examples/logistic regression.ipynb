{
 "cells": [
  {
   "cell_type": "markdown",
   "metadata": {},
   "source": [
    "# Requirements"
   ]
  },
  {
   "cell_type": "code",
   "execution_count": 2,
   "metadata": {},
   "outputs": [],
   "source": [
    "import sys\n",
    "sys.path.append(\"../\") # go to parent dir\n",
    "\n",
    "import numpy as np\n",
    "import pandas as pd\n",
    "import seaborn as sns\n",
    "import matplotlib.pyplot as plt\n",
    "from scipy.special import expit\n",
    "\n",
    "from src.settings import LOGS_ROOT\n",
    "\n",
    "sns.set(rc = {'figure.figsize':(8,8)})\n",
    "sns.set_style(\"whitegrid\")"
   ]
  },
  {
   "cell_type": "markdown",
   "metadata": {},
   "source": [
    "# A smarter approach for results"
   ]
  },
  {
   "cell_type": "markdown",
   "metadata": {},
   "source": [
    "## Data load"
   ]
  },
  {
   "cell_type": "code",
   "execution_count": 4,
   "metadata": {},
   "outputs": [],
   "source": [
    "# ABIDE 869\n",
    "ds = \"ABIDE 869\"\n",
    "data_paths = [\n",
    "    LOGS_ROOT.joinpath(\"220716.075108-experiment-mlp-abide_869/k_0/0002/scores.npz\"),\n",
    "    LOGS_ROOT.joinpath(\"220716.075108-experiment-mlp-abide_869/k_1/0009/scores.npz\"),\n",
    "    LOGS_ROOT.joinpath(\"220716.075108-experiment-mlp-abide_869/k_2/0008/scores.npz\"),\n",
    "    LOGS_ROOT.joinpath(\"220716.075108-experiment-mlp-abide_869/k_3/0004/scores.npz\"),\n",
    "    LOGS_ROOT.joinpath(\"220716.075108-experiment-mlp-abide_869/k_4/0000/scores.npz\")\n",
    "]\n",
    "accuracies = [0.655, 0.684, 0.713, 0.747, 0.746]\n",
    "AUCs = [0.6912234042553193, 0.7150265957446809, 0.7523936170212767, 0.8257161892071951, 0.7970643684352275]\n"
   ]
  },
  {
   "cell_type": "code",
   "execution_count": 9,
   "metadata": {},
   "outputs": [],
   "source": [
    "# OASIS\n",
    "ds = \"OASIS\"\n",
    "data_paths = [\n",
    "    LOGS_ROOT.joinpath(\"220721.184622-experiment-mlp-oasis/k_0/0001/scores.npz\"),\n",
    "    LOGS_ROOT.joinpath(\"220721.184622-experiment-mlp-oasis/k_1/0002/scores.npz\"),\n",
    "    LOGS_ROOT.joinpath(\"220721.184622-experiment-mlp-oasis/k_2/0008/scores.npz\"),\n",
    "    LOGS_ROOT.joinpath(\"220721.184622-experiment-mlp-oasis/k_3/0002/scores.npz\"),\n",
    "    LOGS_ROOT.joinpath(\"220721.184622-experiment-mlp-oasis/k_4/0005/scores.npz\")\n",
    "]\n",
    "accuracies = [0.8181818181818182, 0.8, 0.8121212121212121, 0.8414634146341463, 0.8597560975609756]\n",
    "AUCs = [0.855410866636731, 0.7151648351648352, 0.7371428571428571, 0.8031674208144797, 0.8404977375565611]\n"
   ]
  },
  {
   "cell_type": "code",
   "execution_count": 15,
   "metadata": {},
   "outputs": [],
   "source": [
    "# FBIRN\n",
    "ds = \"FBIRN\"\n",
    "data_paths = [\n",
    "    LOGS_ROOT.joinpath(\"220721.175931-experiment-mlp-fbirn/k_0/0008/scores.npz\"),\n",
    "    LOGS_ROOT.joinpath(\"220721.175931-experiment-mlp-fbirn/k_1/0008/scores.npz\"),\n",
    "    LOGS_ROOT.joinpath(\"220721.175931-experiment-mlp-fbirn/k_2/0004/scores.npz\"),\n",
    "    LOGS_ROOT.joinpath(\"220721.175931-experiment-mlp-fbirn/k_3/0003/scores.npz\"),\n",
    "    LOGS_ROOT.joinpath(\"220721.175931-experiment-mlp-fbirn/k_4/0005/scores.npz\")\n",
    "]\n",
    "accuracies = [0.8095238095238095, 0.7903225806451613, 0.7741935483870968, 0.8709677419354839, 0.7580645161290323]\n",
    "AUCs = [0.8477822580645161, 0.8104166666666667, 0.875, 0.8989583333333333, 0.8645833333333333]"
   ]
  },
  {
   "cell_type": "code",
   "execution_count": 16,
   "metadata": {},
   "outputs": [],
   "source": [
    "data_list = []\n",
    "for data_path in data_paths:\n",
    "    data_list.append(np.load(data_path))\n",
    "\n",
    "mean_scores_list = []\n",
    "targets_list = []\n",
    "for data in data_list:\n",
    "    mean_scores_list.append(data[\"mean_scores\"])\n",
    "    targets_list.append(data[\"targets\"])\n",
    "\n",
    "mean_data_list = []\n",
    "\n",
    "for mean_scores, targets in zip(mean_scores_list, targets_list):\n",
    "    mean_data_list.append(\n",
    "        pd.DataFrame(\n",
    "            {\n",
    "                \"y0\": mean_scores[ :, 0],\n",
    "                \"y1\": mean_scores[ :, 1],\n",
    "                \"class\": targets,\n",
    "            }\n",
    "        )\n",
    "    )"
   ]
  },
  {
   "cell_type": "markdown",
   "metadata": {},
   "source": [
    "## Logistic regression"
   ]
  },
  {
   "cell_type": "code",
   "execution_count": 17,
   "metadata": {},
   "outputs": [],
   "source": [
    "from sklearn.linear_model import LogisticRegression\n",
    "\n",
    "X_list = []\n",
    "y_list = []\n",
    "\n",
    "for mean_data in mean_data_list:\n",
    "    X_list.append(mean_data.to_numpy()[ :, 0:2])\n",
    "    y_list.append(mean_data.to_numpy()[ :, 2].astype(int))\n",
    "\n",
    "coef_list = []\n",
    "intercept_list = []\n",
    "for X, y in zip(X_list, y_list):\n",
    "    clf = LogisticRegression(random_state=0).fit(X, y)\n",
    "    coef_list.append(clf.coef_)\n",
    "    intercept_list.append(clf.intercept_)"
   ]
  },
  {
   "cell_type": "code",
   "execution_count": 21,
   "metadata": {},
   "outputs": [
    {
     "data": {
      "text/plain": [
       "<Figure size 576x576 with 0 Axes>"
      ]
     },
     "metadata": {},
     "output_type": "display_data"
    }
   ],
   "source": [
    "for i in range(len(data_list)):\n",
    "    # Fold i, Accuracy = accuracies[i]\n",
    "    X_plot = np.linspace(2, 7, 100)\n",
    "    Y_plot = -coef_list[i][0, 0]/coef_list[i][0, 1]*X_plot - intercept_list[i][0]/coef_list[i][0, 1]\n",
    "\n",
    "    sns.scatterplot(data=mean_data_list[i], x=\"y0\", y=\"y1\", hue=\"class\", alpha=0.7)\n",
    "\n",
    "    plt.plot(X_plot, Y_plot, color='r')\n",
    "    plt.title(f\"{ds}, Fold {i+1}, Accuracy = {accuracies[i]:.3f}, AUC = {AUCs[i]:.3f}\")\n",
    "    plt.savefig(f\"{ds}-{i}.png\", dpi=150)\n",
    "\n",
    "    plt.clf()"
   ]
  },
  {
   "cell_type": "markdown",
   "metadata": {},
   "source": [
    "## Roc auc score"
   ]
  },
  {
   "cell_type": "code",
   "execution_count": 111,
   "metadata": {},
   "outputs": [
    {
     "name": "stdout",
     "output_type": "stream",
     "text": [
      "torch.Size([165, 2])\n",
      "torch.Size([165])\n",
      "torch.Size([165, 2])\n",
      "0.7151648351648352\n"
     ]
    }
   ],
   "source": [
    "from sklearn.metrics import roc_auc_score\n",
    "import torch\n",
    "\n",
    "# print(mean_data_list[1])\n",
    "logits = torch.tensor(mean_data_list[1].loc[:, [\"y0\", \"y1\"]].to_numpy())\n",
    "targets = torch.tensor(mean_data_list[1].loc[:, \"class\"].to_numpy())\n",
    "# logits = mean_data_list[1][:, 2]\n",
    "\n",
    "print(logits.shape)\n",
    "print(targets.shape)\n",
    "scores = torch.softmax(logits, dim=-1)\n",
    "print(scores.shape)\n",
    "# print(scores[:, 1])\n",
    "\n",
    "auc_scores = roc_auc_score(targets, scores[:, 1])\n",
    "\n",
    "print(auc_scores)"
   ]
  },
  {
   "cell_type": "code",
   "execution_count": 107,
   "metadata": {},
   "outputs": [
    {
     "name": "stdout",
     "output_type": "stream",
     "text": [
      "[[-0.39112423  0.77873981]]\n",
      "[-1.56985064]\n",
      "LR accuracy =  0.793939393939394\n",
      "LR AUC =  0.7175824175824176\n"
     ]
    }
   ],
   "source": [
    "X = mean_data_list[1].to_numpy()[ :, 0:2]\n",
    "y = mean_data_list[1].to_numpy()[ :, 2].astype(int)\n",
    "\n",
    "clf = LogisticRegression(random_state=0).fit(X, y)\n",
    "print(clf.coef_)\n",
    "print(clf.intercept_)\n",
    "\n",
    "LR_accuracy = clf.score(X, y)\n",
    "print(\"LR accuracy = \", LR_accuracy)\n",
    "LR_scores_proba = torch.tensor(clf.predict_proba(X))\n",
    "y = torch.tensor(y)\n",
    "\n",
    "# average{‘micro’, ‘macro’, ‘samples’, ‘weighted’}\n",
    "\n",
    "# print(LR_scores)\n",
    "LR_auc_scores = roc_auc_score(y, LR_scores_proba[:, 1], average='samples')\n",
    "print(\"LR AUC = \", LR_auc_scores)"
   ]
  },
  {
   "cell_type": "markdown",
   "metadata": {},
   "source": [
    "## Balanced/unbalanced"
   ]
  },
  {
   "cell_type": "code",
   "execution_count": 39,
   "metadata": {},
   "outputs": [
    {
     "name": "stdout",
     "output_type": "stream",
     "text": [
      "Zeros:  130 ; ones:  35\n"
     ]
    }
   ],
   "source": [
    "zerosss = 0\n",
    "onesss = 0\n",
    "for target in targets:\n",
    "    if target == 0:\n",
    "        zerosss +=1\n",
    "    else:\n",
    "        onesss +=1\n",
    "\n",
    "print(\"Zeros: \", zerosss, \"; ones: \", onesss)"
   ]
  },
  {
   "cell_type": "markdown",
   "metadata": {},
   "source": [
    "## MISC"
   ]
  },
  {
   "cell_type": "code",
   "execution_count": null,
   "metadata": {},
   "outputs": [],
   "source": [
    "data = np.load(data_path)\n",
    "print(\"data content: \", data.files)\n",
    "\n",
    "raw_scores=data[\"raw_scores\"]\n",
    "mean_scores=data[\"mean_scores\"]\n",
    "targets=data[\"targets\"]\n",
    "print(\"raw_scores.shape: \", raw_scores.shape)\n",
    "print(\"mean_scores.shape: \", mean_scores.shape)\n",
    "print(\"targets.shape: \", targets.shape)\n",
    "\n",
    "data = []\n",
    "for i in range(raw_scores.shape[0]):\n",
    "    data.append(\n",
    "        pd.DataFrame(\n",
    "            {\n",
    "                \"y0\": np.append(raw_scores[i, :, 0], mean_scores[i, 0]),\n",
    "                \"y1\": np.append(raw_scores[i, :, 1], mean_scores[i, 1]),\n",
    "                \"class\": [str(targets[i])] * raw_scores.shape[1] + [str(targets[i]) + \" mean\"],\n",
    "            }\n",
    "        )\n",
    "    )\n",
    "\n",
    "mean_data = pd.DataFrame(\n",
    "    {\n",
    "        \"y0\": mean_scores[ :, 0],\n",
    "        \"y1\": mean_scores[ :, 1],\n",
    "        \"class\": targets,\n",
    "    }\n",
    ")\n"
   ]
  },
  {
   "cell_type": "code",
   "execution_count": null,
   "metadata": {},
   "outputs": [],
   "source": [
    "palette = {\"0\":\"mistyrose\",\n",
    "           \"0 mean\":\"red\", \n",
    "           \"1\":\"lightsteelblue\",\n",
    "           \"1 mean\":\"darkblue\",\n",
    "           }\n",
    "\n",
    "g = sns.FacetGrid(final_data, col=\"subject\", col_wrap=4, height=2, hue=\"class\", palette=palette, legend_out=True)\n",
    "g.map(sns.scatterplot, \"y0\", \"y1\")\n",
    "g.add_legend()\n",
    "g.refline(y=0.5, x=0.5)"
   ]
  }
 ],
 "metadata": {
  "interpreter": {
   "hash": "1b99d877adb0b7ab3fa56a43902a76f28d27732ee5cf08679707ced7dcdfd859"
  },
  "kernelspec": {
   "display_name": "Python 3.7.12 64-bit ('3.7.12')",
   "language": "python",
   "name": "python3"
  },
  "language_info": {
   "codemirror_mode": {
    "name": "ipython",
    "version": 3
   },
   "file_extension": ".py",
   "mimetype": "text/x-python",
   "name": "python",
   "nbconvert_exporter": "python",
   "pygments_lexer": "ipython3",
   "version": "3.7.12"
  },
  "orig_nbformat": 4
 },
 "nbformat": 4,
 "nbformat_minor": 2
}
