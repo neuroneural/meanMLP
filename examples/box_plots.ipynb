{
 "cells": [
  {
   "cell_type": "markdown",
   "metadata": {},
   "source": [
    "# Examples"
   ]
  },
  {
   "cell_type": "markdown",
   "metadata": {},
   "source": [
    "## Import data from WandB"
   ]
  },
  {
   "cell_type": "code",
   "execution_count": 4,
   "metadata": {},
   "outputs": [],
   "source": [
    "import pandas as pd \n",
    "import wandb\n",
    "api = wandb.Api()\n",
    "\n",
    "# Project is specified by <entity/project-name>\n",
    "runs = api.runs(\"pavalipopov/experiment-mlp-ukb\")\n",
    "\n",
    "summary_list, config_list, name_list = [], [], []\n",
    "for run in runs: \n",
    "    # .summary contains the output keys/values for metrics like accuracy.\n",
    "    #  We call ._json_dict to omit large files \n",
    "    summary_list.append(run.summary._json_dict)\n",
    "\n",
    "    # .config contains the hyperparameters.\n",
    "    #  We remove special values that start with _.\n",
    "    config_list.append(\n",
    "        {k: v for k,v in run.config.items()\n",
    "          if not k.startswith('_')})\n",
    "\n",
    "    # .name is the human-readable name of the run.\n",
    "    name_list.append(run.name)\n",
    "\n",
    "runs_df = pd.DataFrame({\n",
    "    \"summary\": summary_list,\n",
    "    \"config\": config_list,\n",
    "    \"name\": name_list\n",
    "    })\n",
    "\n",
    "mlp_ukb_AUC = []\n",
    "mlp_ukb_accuracy = []\n",
    "\n",
    "for run in runs_df[\"summary\"]:\n",
    "    mlp_ukb_AUC.append(run[\"test_score\"])\n",
    "    mlp_ukb_accuracy.append(run[\"test_accuracy\"])\n"
   ]
  },
  {
   "cell_type": "markdown",
   "metadata": {},
   "source": [
    "## Import data from CSV"
   ]
  },
  {
   "cell_type": "code",
   "execution_count": null,
   "metadata": {},
   "outputs": [],
   "source": [
    "import csv\n",
    "mlp_ukb_AUC = []\n",
    "mlp_ukb_accyracy = []\n",
    "with open('/path_to_csv.csv', 'r') as file:\n",
    "    reader = csv.reader(file)\n",
    "    for row in reader:\n",
    "        mlp_ukb_AUC.append(float(row[N]))\n",
    "        mlp_ukb_accyracy.append(float(row[M]))"
   ]
  },
  {
   "cell_type": "markdown",
   "metadata": {},
   "source": [
    "## Plot data"
   ]
  },
  {
   "cell_type": "code",
   "execution_count": 5,
   "metadata": {},
   "outputs": [
    {
     "data": {
      "text/plain": [
       "[Text(0, 0, 'AUC'), Text(1, 0, 'Accuracy')]"
      ]
     },
     "execution_count": 5,
     "metadata": {},
     "output_type": "execute_result"
    },
    {
     "data": {
      "image/png": "[encoded data removed]",
      "text/plain": [
       "<Figure size 1296x648 with 1 Axes>"
      ]
     },
     "metadata": {},
     "output_type": "display_data"
    }
   ],
   "source": [
    "import matplotlib.pyplot as plt\n",
    "import seaborn as sns\n",
    "import numpy as np\n",
    "# sns.set(font_scale = 2)\n",
    "# sns.set(rc={'figure.figsize':(18,9)})\n",
    "# так масштаб приятнее\n",
    "sns.set_theme(style=\"whitegrid\", font_scale = 3, rc={'figure.figsize':(18,9)})\n",
    "\n",
    "sns.set_theme(\n",
    "    style=\"whitegrid\", \n",
    "    font_scale = 3, \n",
    "    rc={'figure.figsize':(18,9)}\n",
    ")\n",
    "\n",
    "plot = sns.boxplot(\n",
    "    data=[mlp_ukb_AUC, mlp_ukb_accuracy],\n",
    "    showfliers = True,\n",
    ")\n",
    "plt.title(\"MLP, UKB\")\n",
    "plot.set_xticklabels([\"AUC\", \"Accuracy\"])\n",
    "# plot.set(ylabel=\"AUC\")"
   ]
  },
  {
   "cell_type": "markdown",
   "metadata": {},
   "source": [
    "# MLP and baselines"
   ]
  },
  {
   "cell_type": "markdown",
   "metadata": {},
   "source": [
    "## FBIRN"
   ]
  },
  {
   "cell_type": "code",
   "execution_count": null,
   "metadata": {},
   "outputs": [],
   "source": [
    "# MLP\n",
    "import pandas as pd \n",
    "import wandb\n",
    "api = wandb.Api()\n",
    "\n",
    "# Project is specified by <entity/project-name>\n",
    "runs = api.runs(\"pavalipopov/experiment-mlp-fbirn\")\n",
    "\n",
    "summary_list, config_list, name_list = [], [], []\n",
    "for run in runs: \n",
    "    # .summary contains the output keys/values for metrics like accuracy.\n",
    "    #  We call ._json_dict to omit large files \n",
    "    summary_list.append(run.summary._json_dict)\n",
    "\n",
    "    # .config contains the hyperparameters.\n",
    "    #  We remove special values that start with _.\n",
    "    config_list.append(\n",
    "        {k: v for k,v in run.config.items()\n",
    "          if not k.startswith('_')})\n",
    "\n",
    "    # .name is the human-readable name of the run.\n",
    "    name_list.append(run.name)\n",
    "\n",
    "runs_df = pd.DataFrame({\n",
    "    \"summary\": summary_list,\n",
    "    \"config\": config_list,\n",
    "    \"name\": name_list\n",
    "    })\n",
    "\n",
    "mlp_fbirn_AUC = []\n",
    "mlp_fbirn_accuracy = []\n",
    "\n",
    "for run in runs_df[\"summary\"]:\n",
    "    mlp_fbirn_AUC.append(run[\"test_score\"])\n",
    "    mlp_fbirn_accuracy.append(run[\"test_accuracy\"])"
   ]
  },
  {
   "cell_type": "code",
   "execution_count": null,
   "metadata": {},
   "outputs": [],
   "source": [
    "# SVM\n",
    "import pandas as pd \n",
    "import wandb\n",
    "api = wandb.Api()\n",
    "\n",
    "# Project is specified by <entity/project-name>\n",
    "runs = api.runs(\"pavalipopov/experiment-svm-fbirn\")\n",
    "\n",
    "summary_list, config_list, name_list = [], [], []\n",
    "for run in runs: \n",
    "    # .summary contains the output keys/values for metrics like accuracy.\n",
    "    #  We call ._json_dict to omit large files \n",
    "    summary_list.append(run.summary._json_dict)\n",
    "\n",
    "    # .config contains the hyperparameters.\n",
    "    #  We remove special values that start with _.\n",
    "    config_list.append(\n",
    "        {k: v for k,v in run.config.items()\n",
    "          if not k.startswith('_')})\n",
    "\n",
    "    # .name is the human-readable name of the run.\n",
    "    name_list.append(run.name)\n",
    "\n",
    "runs_df = pd.DataFrame({\n",
    "    \"summary\": summary_list,\n",
    "    \"config\": config_list,\n",
    "    \"name\": name_list\n",
    "    })\n",
    "\n",
    "svm_fbirn_AUC = []\n",
    "svm_fbirn_accuracy = []\n",
    "\n",
    "for run in runs_df[\"summary\"]:\n",
    "    svm_fbirn_AUC.append(run[\"test_score\"])\n",
    "    svm_fbirn_accuracy.append(run[\"test_accuracy\"])"
   ]
  },
  {
   "cell_type": "code",
   "execution_count": null,
   "metadata": {},
   "outputs": [],
   "source": [
    "# LR\n",
    "\n",
    "\n",
    "lr_fbirn_AUC = []\n",
    "lr_fbirn_accuracy = []\n",
    "\n",
    "for run in runs_df[\"summary\"]:\n",
    "    lr_fbirn_AUC.append(run[\"test_score\"])\n",
    "    lr_fbirn_accuracy.append(run[\"test_accuracy\"])"
   ]
  },
  {
   "cell_type": "code",
   "execution_count": null,
   "metadata": {},
   "outputs": [],
   "source": [
    "# plot AUC data\n",
    "import matplotlib.pyplot as plt\n",
    "import seaborn as sns\n",
    "import numpy as np\n",
    "# sns.set(font_scale = 2)\n",
    "# sns.set(rc={'figure.figsize':(18,9)})\n",
    "# так масштаб приятнее\n",
    "sns.set_theme(style=\"whitegrid\", font_scale = 3, rc={'figure.figsize':(18,9)})\n",
    "\n",
    "sns.set_theme(\n",
    "    style=\"whitegrid\", \n",
    "    font_scale = 3, \n",
    "    rc={'figure.figsize':(18,9)}\n",
    ")\n",
    "\n",
    "plot = sns.boxplot(\n",
    "    data=[mlp_fbirn_AUC, svm_fbirn_AUC, lr_fbirn_AUC],\n",
    "    showfliers = True,\n",
    ")\n",
    "plt.title(\"FBRIN\")\n",
    "plot.set_xticklabels([\"MLP\", \"SVM\", \"Logistic regression\"])\n",
    "plot.set(ylabel=\"AUC\")"
   ]
  },
  {
   "cell_type": "code",
   "execution_count": null,
   "metadata": {},
   "outputs": [],
   "source": [
    "# plot accuracy data\n",
    "import matplotlib.pyplot as plt\n",
    "import seaborn as sns\n",
    "import numpy as np\n",
    "# sns.set(font_scale = 2)\n",
    "# sns.set(rc={'figure.figsize':(18,9)})\n",
    "# так масштаб приятнее\n",
    "sns.set_theme(style=\"whitegrid\", font_scale = 3, rc={'figure.figsize':(18,9)})\n",
    "\n",
    "sns.set_theme(\n",
    "    style=\"whitegrid\", \n",
    "    font_scale = 3, \n",
    "    rc={'figure.figsize':(18,9)}\n",
    ")\n",
    "\n",
    "plot = sns.boxplot(\n",
    "    data=[mlp_fbirn_accuracy, svm_fbirn_accuracy, lr_fbirn_accuracy],\n",
    "    showfliers = True,\n",
    ")\n",
    "plt.title(\"FBRIN\")\n",
    "plot.set_xticklabels([\"MLP\", \"SVM\", \"Logistic regression\"])\n",
    "plot.set(ylabel=\"Accuracy\")"
   ]
  }
 ],
 "metadata": {
  "interpreter": {
   "hash": "1b99d877adb0b7ab3fa56a43902a76f28d27732ee5cf08679707ced7dcdfd859"
  },
  "kernelspec": {
   "display_name": "Python 3.7.12 64-bit ('3.7.12')",
   "language": "python",
   "name": "python3"
  },
  "language_info": {
   "codemirror_mode": {
    "name": "ipython",
    "version": 3
   },
   "file_extension": ".py",
   "mimetype": "text/x-python",
   "name": "python",
   "nbconvert_exporter": "python",
   "pygments_lexer": "ipython3",
   "version": "3.7.12"
  },
  "orig_nbformat": 4
 },
 "nbformat": 4,
 "nbformat_minor": 2
}
